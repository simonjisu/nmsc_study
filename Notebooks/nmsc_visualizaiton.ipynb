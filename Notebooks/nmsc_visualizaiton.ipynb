{
 "cells": [
  {
   "cell_type": "code",
   "execution_count": 15,
   "metadata": {
    "collapsed": false
   },
   "outputs": [],
   "source": [
    "import os\n",
    "import sys\n",
    "sys.path.append('/'.join(os.getcwd().split('/')[:-1]))\n",
    "import torch\n",
    "import torch.nn as nn\n",
    "from torch.autograd import Variable\n",
    "import torch.optim as optim\n",
    "import torch.nn.functional as F\n",
    "import numpy as np\n",
    "import pandas as pd\n",
    "import torchtext\n",
    "from konlpy.tag import Mecab\n",
    "from torchtext.data import Field, BucketIterator, TabularDataset\n",
    "from model.bidirec_LSTM import bidirec_LSTM\n",
    "from collections import defaultdict"
   ]
  },
  {
   "cell_type": "code",
   "execution_count": 16,
   "metadata": {
    "collapsed": true
   },
   "outputs": [],
   "source": [
    "USE_CUDA = torch.cuda.is_available()\n",
    "DEVICE = 0 if USE_CUDA else -1"
   ]
  },
  {
   "cell_type": "code",
   "execution_count": 17,
   "metadata": {
    "collapsed": true
   },
   "outputs": [],
   "source": [
    "batch_size = 64\n",
    "# Tokenizer\n",
    "tagger = Mecab()\n",
    "tagger = tagger.morphs\n",
    "\n",
    "# Make Field\n",
    "REVIEW = Field(tokenize=tagger, use_vocab=True, lower=True, #init_token=\"<s>\", eos_token=\"</s>\", \n",
    "               include_lengths=True, batch_first=True)\n",
    "LABEL = Field(sequential=False, use_vocab=False, preprocessing=lambda x: int(x))\n",
    "\n",
    "# Get train/test data\n",
    "train_data, test_data = TabularDataset.splits(\n",
    "                   path=\"../data/\", train='train_docs.txt', validation=\"test_docs.txt\",\n",
    "                   format='tsv', fields=[('review', REVIEW), ('label', LABEL)])\n",
    "\n",
    "# Build Vocaburary\n",
    "REVIEW.build_vocab(train_data)\n",
    "len(REVIEW.vocab)\n",
    "\n",
    "# Make iterator for splits\n",
    "train_iter, test_iter = BucketIterator.splits(\n",
    "    (train_data, test_data), batch_size=batch_size, device=DEVICE, # device -1 : cpu, device 0 : 남는 gpu\n",
    "    sort_key=lambda x: len(x.review), sort_within_batch=True, repeat=False) # x.TEXT 길이 기준으로 정렬"
   ]
  },
  {
   "cell_type": "code",
   "execution_count": 18,
   "metadata": {
    "collapsed": false
   },
   "outputs": [],
   "source": [
    "V = len(REVIEW.vocab)\n",
    "D = 100\n",
    "H = 200\n",
    "H_f = 1000\n",
    "O = 1\n",
    "da = 300\n",
    "# r = 5\n",
    "# num_layers = 3\n",
    "num_directions = 2\n",
    "bidirec = True\n",
    "batch_size = 64\n",
    "# weight_decay_rate = 0.0001\n",
    "LR = 0.01\n",
    "STEP = 10"
   ]
  },
  {
   "cell_type": "code",
   "execution_count": 19,
   "metadata": {
    "collapsed": false,
    "scrolled": true
   },
   "outputs": [],
   "source": [
    "# model_path = '../model/self_attn_1H_r5.model'\n",
    "model_path = '../model/self_attn_1H_r20.model'  \n",
    "# model_path = '../model/self_attn_3H_r5.model' \n",
    "num_layers = int(model_path.split('_')[2][0])\n",
    "r = int(model_path.split('_')[3].split('.')[0][1:])\n",
    "model = bidirec_LSTM(V, D, H, H_f, O, da, r, num_layers=num_layers, bidirec=bidirec, use_cuda=USE_CUDA)\n",
    "if USE_CUDA:\n",
    "    model = model.cuda()\n",
    "    model.load_state_dict(torch.load(model_path))\n",
    "else:\n",
    "    model.load_state_dict(torch.load(model_path, map_location=lambda storage, loc: storage))"
   ]
  },
  {
   "cell_type": "code",
   "execution_count": 20,
   "metadata": {
    "collapsed": true
   },
   "outputs": [],
   "source": [
    "def save_data(i, model, inputs, lengths, targets, preds, dic):\n",
    "    dic[i] = {'inputs': inputs, 'lengths': lengths, 'A': model.A, 'targets': targets, 'preds': preds}\n",
    "    return dic"
   ]
  },
  {
   "cell_type": "code",
   "execution_count": 21,
   "metadata": {
    "collapsed": false
   },
   "outputs": [
    {
     "name": "stdout",
     "output_type": "stream",
     "text": [
      "Accuracy :  0.84604\n"
     ]
    },
    {
     "name": "stderr",
     "output_type": "stream",
     "text": [
      "/Users/Soo/anaconda/lib/python3.6/site-packages/ipykernel/__main__.py:3: DeprecationWarning: generator 'Iterator.__iter__' raised StopIteration\n",
      "  app.launch_new_instance()\n"
     ]
    }
   ],
   "source": [
    "num_equal=0\n",
    "dic = defaultdict(dict)\n",
    "for i, batch in enumerate(test_iter):\n",
    "    inputs, lengths = batch.review\n",
    "    targets = batch.label\n",
    "    if 0 in lengths:\n",
    "        idxes = torch.arange(inputs.size(0))\n",
    "        if USE_CUDA:\n",
    "            idxes = idxes.cuda()\n",
    "        mask = Variable(idxes[lengths.ne(0)].long())\n",
    "\n",
    "        inputs = inputs.index_select(0, mask)\n",
    "        lengths = lengths.masked_select(lengths.ne(0))\n",
    "        targets = targets.index_select(0, mask)\n",
    "    \n",
    "    preds = model.predict(inputs, lengths)\n",
    "    num_equal += torch.eq(preds, targets).sum().data[0]\n",
    "    dic = save_data(i, model, inputs, lengths, targets, preds, dic)\n",
    "print(\"Accuracy : \" , num_equal / len(test_data))"
   ]
  },
  {
   "cell_type": "code",
   "execution_count": 62,
   "metadata": {
    "collapsed": true
   },
   "outputs": [],
   "source": [
    "def get_reviews(inputs, lengths):\n",
    "    max_len = max(lengths)\n",
    "    reviews = []\n",
    "    for s, l in zip(inputs, lengths):\n",
    "        if l == max_len:\n",
    "            reviews.append([REVIEW.vocab.itos[w.data[0]] for w in s])\n",
    "        else:\n",
    "            num_add_pad = max_len - l\n",
    "            reviews.append([REVIEW.vocab.itos[w.data[0]] for w in s] + ['<pad>']*(num_add_pad-1))\n",
    "    return reviews"
   ]
  },
  {
   "cell_type": "code",
   "execution_count": 63,
   "metadata": {
    "collapsed": true
   },
   "outputs": [],
   "source": [
    "def build_matrix(dic, sample_idx):\n",
    "    A = dic[sample_idx]['A'].sum(1)\n",
    "    A_norm = (A / A.max(1)[0].unsqueeze(1)).data.numpy()\n",
    "    inputs = dic[sample_idx]['inputs']\n",
    "    lengths = dic[sample_idx]['lengths']\n",
    "    targets = dic[sample_idx]['targets']\n",
    "    preds = dic[sample_idx]['preds']\n",
    "    \n",
    "    reviews = get_reviews(inputs, lengths)\n",
    "    return reviews, A_norm, targets, preds"
   ]
  },
  {
   "cell_type": "code",
   "execution_count": 64,
   "metadata": {
    "collapsed": false
   },
   "outputs": [],
   "source": [
    "def span_str(color, input_str):\n",
    "    string = '<span style=\"margin-left:3px;background-color:rgba({})\">{}</span>'.format(color, input_str)\n",
    "    return string"
   ]
  },
  {
   "cell_type": "code",
   "execution_count": 65,
   "metadata": {
    "collapsed": true
   },
   "outputs": [],
   "source": [
    "def write_html_vis(reviews, A_norm, targets, preds, vis_path):\n",
    "    with open(vis_path, 'w', encoding='utf-8') as file:\n",
    "        print('<html style=\"margin:0;padding:0;\"><body style=\"margin:0;padding:0;\">\\n', file=file)\n",
    "        print('<div style=\"margin:25px;\">\\n', file=file)\n",
    "        for review, score, target, preds in zip(reviews, A_norm, \\\n",
    "                                                targets.data.numpy(), preds.data.numpy()):\n",
    "            alphas = ['{:.2f}'.format(s) for s in score]\n",
    "            print('<p style=\"margin:10px;\">\\n', file=file)\n",
    "            if target == preds:\n",
    "                color = '154,226,143, 0.7'\n",
    "                input_str = '[target: {}| pred: {}]'\n",
    "                string = span_str(color, input_str)\n",
    "                print(string.format(target, preds), file=file)\n",
    "            else:\n",
    "                color = '203,127,230, 0.7'\n",
    "                input_str = '[target: {}| pred: {}]'\n",
    "                string = span_str(color, input_str)\n",
    "                print(string.format(target, preds), file=file)\n",
    "                \n",
    "            for word, alpha in zip(review, alphas):\n",
    "                color = '255,50,50, {}'\n",
    "                input_str = '{}'\n",
    "                string = span_str(color, input_str)\n",
    "                print(('\\t' + string + '\\n').format(alpha, word), file=file)\n",
    "            print('</p>\\n', file=file)\n",
    "        print('</div>\\n', file=file)\n",
    "        print('</body></html>', file=file)"
   ]
  },
  {
   "cell_type": "code",
   "execution_count": 66,
   "metadata": {
    "collapsed": true
   },
   "outputs": [],
   "source": [
    "# sample_idx = np.random.randint(len(dic))\n",
    "sample_idx = 767"
   ]
  },
  {
   "cell_type": "code",
   "execution_count": 70,
   "metadata": {
    "collapsed": true
   },
   "outputs": [],
   "source": [
    "vis_path = '../figures/{}[{}].html'.format(model_path.split('/')[-1].split('.')[0], sample_idx)"
   ]
  },
  {
   "cell_type": "code",
   "execution_count": 71,
   "metadata": {
    "collapsed": false
   },
   "outputs": [],
   "source": [
    "reviews, A_norm, targets, preds = build_matrix(dic, sample_idx)"
   ]
  },
  {
   "cell_type": "code",
   "execution_count": 72,
   "metadata": {
    "collapsed": false
   },
   "outputs": [],
   "source": [
    "write_html_vis(reviews, A_norm, targets, preds, vis_path)"
   ]
  },
  {
   "cell_type": "code",
   "execution_count": null,
   "metadata": {
    "collapsed": true
   },
   "outputs": [],
   "source": []
  }
 ],
 "metadata": {
  "kernelspec": {
   "display_name": "Python [conda env:anaconda]",
   "language": "python",
   "name": "conda-env-anaconda-py"
  },
  "language_info": {
   "codemirror_mode": {
    "name": "ipython",
    "version": 3
   },
   "file_extension": ".py",
   "mimetype": "text/x-python",
   "name": "python",
   "nbconvert_exporter": "python",
   "pygments_lexer": "ipython3",
   "version": "3.6.0"
  }
 },
 "nbformat": 4,
 "nbformat_minor": 2
}
